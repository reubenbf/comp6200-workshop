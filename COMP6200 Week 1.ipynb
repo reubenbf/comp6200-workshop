{
  "nbformat": 4,
  "nbformat_minor": 0,
  "metadata": {
    "kernelspec": {
      "display_name": "Python 3",
      "language": "python",
      "name": "python3"
    },
    "language_info": {
      "codemirror_mode": {
        "name": "ipython",
        "version": 3
      },
      "file_extension": ".py",
      "mimetype": "text/x-python",
      "name": "python",
      "nbconvert_exporter": "python",
      "pygments_lexer": "ipython3",
      "version": "3.6.8"
    },
    "colab": {
      "name": "COMP6200 Week 1.ipynb",
      "provenance": [],
      "collapsed_sections": []
    }
  },
  "cells": [
    {
      "cell_type": "markdown",
      "metadata": {
        "id": "aiUgFz99InBN",
        "colab_type": "text"
      },
      "source": [
        "# COMP6200 Week 1 Practical"
      ]
    },
    {
      "cell_type": "markdown",
      "metadata": {
        "id": "Ahg_OIjgInBV",
        "colab_type": "text"
      },
      "source": [
        "The goal of this week's practical is to get you started using Python, Jupyter Notebooks, and Git, three tools that you will use through the semester in your work.  \n",
        "\n",
        "**Python** is our language of choice in COMP6200.  You may have seen it before, if not, you need to learn basic Python coding.\n",
        "\n",
        "You are looking at a **Jupyter Notebook**, it is a document that mixes text, code and the output of the code.   A lot of your work will be creating notebooks like this to present your analysis.  \n",
        "\n",
        "**Git** is a distributed version control system (DVCS), you will use it to keep track of your work and ensure that you have a backup copy of what you are doing.  You should have checked this notebook out of **Github** using Git. Your task this week is to complete some programming work in this worksheet and commit your changes to your own Bitbucket repository."
      ]
    },
    {
      "cell_type": "markdown",
      "metadata": {
        "id": "SxyXS3RpInBa",
        "colab_type": "text"
      },
      "source": [
        "## Python Basics"
      ]
    },
    {
      "cell_type": "markdown",
      "metadata": {
        "id": "vU6Pnq_hInBh",
        "colab_type": "text"
      },
      "source": [
        "Your task this week is to complete some basic programming tasks with Python in this worksheet.  There are questions below with a space for you to write code to achieve the given outcomes. Write the code, test it, and when you are done, submit your work as described at the end of the notebook. \n",
        "\n",
        "The tasks aren't meant to be complicated Python problems, just some simple tasks to get you started with this process.  \n",
        "\n",
        "## String Manipulation\n",
        "\n",
        "The next cell defines three strings that you will use in the first group of questions. Note that the first uses single quotes, the second uses double quotes and the third uses three double quotes since it includes newline characters.  These are all valid ways of writing strings in Python and are equivalent."
      ]
    },
    {
      "cell_type": "code",
      "metadata": {
        "id": "rDtjNt4XInBm",
        "colab_type": "code",
        "colab": {}
      },
      "source": [
        "title = 'Data Science'\n",
        "code = \"COMP6200\"\n",
        "description = \"\"\"This unit introduces students to the fundamental techniques and \n",
        "tools of data science, such as the graphical display of data, \n",
        "predictive models, evaluation methodologies, regression, \n",
        "classification and clustering. The unit provides practical \n",
        "experience applying these methods using industry-standard \n",
        "software tools to real-world data sets. Students who have \n",
        "completed this unit will be able to identify which data \n",
        "science methods are most appropriate for a real-world data \n",
        "set, apply these methods to the data set, and interpret the \n",
        "results of the analysis they have performed. \"\"\"\n"
      ],
      "execution_count": 0,
      "outputs": []
    },
    {
      "cell_type": "markdown",
      "metadata": {
        "id": "PlXp5W1iInB3",
        "colab_type": "text"
      },
      "source": [
        "Write code to print the length of these strings."
      ]
    },
    {
      "cell_type": "code",
      "metadata": {
        "id": "IuJqW7dzInB8",
        "colab_type": "code",
        "colab": {
          "base_uri": "https://localhost:8080/",
          "height": 67
        },
        "outputId": "4ea74030-16c4-46bf-bac5-936a7f730ca7"
      },
      "source": [
        "print(\"Length of title:\",len(title),\"\\nLength of code:\",len(code),\"\\nLength of description:\",len(description))"
      ],
      "execution_count": 2,
      "outputs": [
        {
          "output_type": "stream",
          "text": [
            "Length of title: 12 \n",
            "Length of code: 8 \n",
            "Length of description: 587\n"
          ],
          "name": "stdout"
        }
      ]
    },
    {
      "cell_type": "markdown",
      "metadata": {
        "id": "ibT4eCD6InCP",
        "colab_type": "text"
      },
      "source": [
        "Write code to create a new string in a variable 'summary' that contains the code, title and the first 20 characters of the description, with a ':' character between each one (ie 'COMP249-Data Science-This unit...'"
      ]
    },
    {
      "cell_type": "code",
      "metadata": {
        "id": "W91yaC-KInCT",
        "colab_type": "code",
        "colab": {
          "base_uri": "https://localhost:8080/",
          "height": 54
        },
        "outputId": "4a4b0ef0-8b70-4998-b075-e58d2616c6c2"
      },
      "source": [
        "summary = code+'-'+title+'-'+description"
      ],
      "execution_count": 6,
      "outputs": [
        {
          "output_type": "execute_result",
          "data": {
            "text/plain": [
              "'COMP6200-Data Science-This unit introduces students to the fundamental techniques and \\ntools of data science, such as the graphical display of data, \\npredictive models, evaluation methodologies, regression, \\nclassification and clustering. The unit provides practical \\nexperience applying these methods using industry-standard \\nsoftware tools to real-world data sets. Students who have \\ncompleted this unit will be able to identify which data \\nscience methods are most appropriate for a real-world data \\nset, apply these methods to the data set, and interpret the \\nresults of the analysis they have performed. '"
            ]
          },
          "metadata": {
            "tags": []
          },
          "execution_count": 6
        }
      ]
    },
    {
      "cell_type": "markdown",
      "metadata": {
        "id": "YYT5YNnQInCd",
        "colab_type": "text"
      },
      "source": [
        "Write code to find the number of words in the description.  Hint, this is easy in Python since strings support the [split method](https://docs.python.org/3.6/library/stdtypes.html#str.split) that returns a list of strings after splitting on whitespace (or another character if you wish).   Try split on the string, then find out how many strings are in the resulting list."
      ]
    },
    {
      "cell_type": "code",
      "metadata": {
        "id": "gwH6O89HInCg",
        "colab_type": "code",
        "colab": {
          "base_uri": "https://localhost:8080/",
          "height": 34
        },
        "outputId": "9173d72c-debf-4d14-a047-1a339894c3f8"
      },
      "source": [
        "print(\"Number of words in description: \"+str(len(description.split()))) "
      ],
      "execution_count": 8,
      "outputs": [
        {
          "output_type": "stream",
          "text": [
            "Number of words in description:84\n"
          ],
          "name": "stdout"
        }
      ]
    },
    {
      "cell_type": "markdown",
      "metadata": {
        "id": "8pZYCH7KInCn",
        "colab_type": "text"
      },
      "source": [
        "# Control Structures\n",
        "\n",
        "Here you will explore Python control structures - conditionals and loops.  \n",
        "\n",
        "Write a for loop over the words in the description and count how many times the word 'unit' occurs.  Your solution will have an if statement inside the for loop.\n",
        "\n",
        "Here you will encounter Python's required indentation for the first time. This will annoy you at first but you will learn to either love it or hate it with time..."
      ]
    },
    {
      "cell_type": "code",
      "metadata": {
        "id": "l6tE8gA-InCo",
        "colab_type": "code",
        "colab": {
          "base_uri": "https://localhost:8080/",
          "height": 34
        },
        "outputId": "fb1eabe9-b9df-4666-ff3b-98222e64293c"
      },
      "source": [
        "print(len([word for word in description.split() if 'unit' in word]))"
      ],
      "execution_count": 71,
      "outputs": [
        {
          "output_type": "stream",
          "text": [
            "3\n"
          ],
          "name": "stdout"
        }
      ]
    },
    {
      "cell_type": "markdown",
      "metadata": {
        "id": "IozWV32sInCt",
        "colab_type": "text"
      },
      "source": [
        "You can iterate over any sequence with a for loop, including the characters in a string.  Write a for loop over the characters in the description that prints out 'Comma!' every time it sees a comma."
      ]
    },
    {
      "cell_type": "code",
      "metadata": {
        "id": "R7eooRZtInCv",
        "colab_type": "code",
        "colab": {
          "base_uri": "https://localhost:8080/",
          "height": 134
        },
        "outputId": "1bc7a9a3-ec81-4a59-8438-519e6c99f694"
      },
      "source": [
        "for word in description.split(): \n",
        "  if ',' in word: print(\"Comma!\") "
      ],
      "execution_count": 75,
      "outputs": [
        {
          "output_type": "stream",
          "text": [
            "Comma!\n",
            "Comma!\n",
            "Comma!\n",
            "Comma!\n",
            "Comma!\n",
            "Comma!\n",
            "Comma!\n"
          ],
          "name": "stdout"
        }
      ]
    },
    {
      "cell_type": "markdown",
      "metadata": {
        "id": "js2z50X9InC1",
        "colab_type": "text"
      },
      "source": [
        "## Functions\n",
        "\n",
        "Python is a dynamically typed language so we don't need to declare the type of a variable or declare the return type of a function (although Python 3 introduced optional [type hints](https://stackoverflow.com/documentation/python/1766/type-hints#t=201607251908319482596)).  Apart from that the idea of writing a function in Python is the same as in Processing or (methods in) Java.\n",
        "\n",
        "Write a function that takes a single string argument and returns the number of words in the string using the code you wrote above to count words."
      ]
    },
    {
      "cell_type": "code",
      "metadata": {
        "id": "w9L12SFdInC3",
        "colab_type": "code",
        "colab": {
          "base_uri": "https://localhost:8080/",
          "height": 50
        },
        "outputId": "ae2b3b6f-b660-47ba-e26e-1719c90374fb"
      },
      "source": [
        "def word_count(w):\n",
        "  print(\"Number of words in description: \"+str(len(w.split())))\n",
        "\n",
        "user_string = input(\"Enter string:\" )\n",
        "word_count(user_string)"
      ],
      "execution_count": 38,
      "outputs": [
        {
          "output_type": "stream",
          "text": [
            "Enter string:Hey how are you \n",
            "Number of words in description: 4\n"
          ],
          "name": "stdout"
        }
      ]
    },
    {
      "cell_type": "markdown",
      "metadata": {
        "id": "sKKZCCiUInC7",
        "colab_type": "text"
      },
      "source": [
        "Use your function to find the number of words in the description string defined above."
      ]
    },
    {
      "cell_type": "code",
      "metadata": {
        "id": "97HQV8foInC8",
        "colab_type": "code",
        "colab": {
          "base_uri": "https://localhost:8080/",
          "height": 34
        },
        "outputId": "dd0b6e25-8def-4749-d37e-0a060a947f66"
      },
      "source": [
        "word_count(description)"
      ],
      "execution_count": 39,
      "outputs": [
        {
          "output_type": "stream",
          "text": [
            "Number of words in description: 84\n"
          ],
          "name": "stdout"
        }
      ]
    },
    {
      "cell_type": "markdown",
      "metadata": {
        "id": "mC--5m6cInDB",
        "colab_type": "text"
      },
      "source": [
        "## Data and Plotting\n",
        "\n",
        "Just to give you a taste of some of the capabilities of Jupyter notebooks and Python we will look at a very simple example of data handling and plotting.  First I'll import some libraries that will allow us to do this: `pandas` handles data and `matplotlib` does the plotting."
      ]
    },
    {
      "cell_type": "code",
      "metadata": {
        "id": "qJKOKnYAInDD",
        "colab_type": "code",
        "colab": {}
      },
      "source": [
        "import pandas as pd\n",
        "import matplotlib.pyplot as plt\n",
        "% matplotlib inline"
      ],
      "execution_count": 0,
      "outputs": []
    },
    {
      "cell_type": "markdown",
      "metadata": {
        "id": "AU16SmhLInDJ",
        "colab_type": "text"
      },
      "source": [
        "Now I will define a data frame with some data about the number of students in this unit and the pass and fale rate.  This is like an array but can do a lot more. The last line in the cell evaluates the data frame so that it gets displayed. Notice that this year noone has failed - let's keep it that way!"
      ]
    },
    {
      "cell_type": "code",
      "metadata": {
        "id": "gQC5gEWcInDK",
        "colab_type": "code",
        "colab": {
          "base_uri": "https://localhost:8080/",
          "height": 34
        },
        "outputId": "d54b8396-ad7e-483b-c1df-f10518ec9f41"
      },
      "source": [
        "classdata = pd.DataFrame({\n",
        "    'year': [2017, 2018, 2019],\n",
        "    'students': [38, 64, 247],\n",
        "    'pass': [32, 50, 247],\n",
        "    'fail': [6, 14, 0]\n",
        "})\n",
        "classdata"
      ],
      "execution_count": 92,
      "outputs": [
        {
          "output_type": "execute_result",
          "data": {
            "text/plain": [
              "array([ 32,  50, 247])"
            ]
          },
          "metadata": {
            "tags": []
          },
          "execution_count": 92
        }
      ]
    },
    {
      "cell_type": "markdown",
      "metadata": {
        "id": "WaT1vtSbInDP",
        "colab_type": "text"
      },
      "source": [
        "Now we will create a simple plot."
      ]
    },
    {
      "cell_type": "code",
      "metadata": {
        "id": "W5z7dtWRInDR",
        "colab_type": "code",
        "colab": {
          "base_uri": "https://localhost:8080/",
          "height": 312
        },
        "outputId": "38ea2d22-3bc5-43a2-97e9-960d4f1e5b60"
      },
      "source": [
        "classdata.plot(kind='bar', x='year', y='students')"
      ],
      "execution_count": 42,
      "outputs": [
        {
          "output_type": "execute_result",
          "data": {
            "text/plain": [
              "<matplotlib.axes._subplots.AxesSubplot at 0x7f0363d66160>"
            ]
          },
          "metadata": {
            "tags": []
          },
          "execution_count": 42
        },
        {
          "output_type": "display_data",
          "data": {
            "image/png": "[encoded data removed]",
            "text/plain": [
              "<Figure size 432x288 with 1 Axes>"
            ]
          },
          "metadata": {
            "tags": []
          }
        }
      ]
    },
    {
      "cell_type": "markdown",
      "metadata": {
        "id": "_tPDIwrcInDd",
        "colab_type": "text"
      },
      "source": [
        "Experiment a little with this to try other options. Look at [the documentation](https://pandas.pydata.org/pandas-docs/stable/user_guide/visualization.html) for an idea. For example, can you make a line plot rather than a bar plot? Can you plot the other columns."
      ]
    },
    {
      "cell_type": "code",
      "metadata": {
        "id": "KdWeXh59InDf",
        "colab_type": "code",
        "colab": {
          "base_uri": "https://localhost:8080/",
          "height": 282
        },
        "outputId": "b2b6b0a1-b673-46e5-886d-8ff99eff2de5"
      },
      "source": [
        "df = pd.DataFrame({\n",
        "   'pass': classdata['pass'].values,\n",
        "   'fail': classdata['fail'].values\n",
        "   }, index=classdata['year'].values)\n",
        "df.plot.line(rot=0,xticks=classdata['year'].values)"
      ],
      "execution_count": 104,
      "outputs": [
        {
          "output_type": "execute_result",
          "data": {
            "text/plain": [
              "<matplotlib.axes._subplots.AxesSubplot at 0x7f03615f74a8>"
            ]
          },
          "metadata": {
            "tags": []
          },
          "execution_count": 104
        },
        {
          "output_type": "display_data",
          "data": {
            "image/png": "[encoded data removed]",
            "text/plain": [
              "<Figure size 432x288 with 1 Axes>"
            ]
          },
          "metadata": {
            "tags": []
          }
        }
      ]
    },
    {
      "cell_type": "markdown",
      "metadata": {
        "id": "HOdtUHF2InDj",
        "colab_type": "text"
      },
      "source": [
        "Next we will add a new column, calculated from the pass and students columns to hold the percentage pass rate.  This shows how we can do calculations over the entire array of data using `pandas`.  "
      ]
    },
    {
      "cell_type": "code",
      "metadata": {
        "id": "wvR-5efKInDk",
        "colab_type": "code",
        "colab": {
          "base_uri": "https://localhost:8080/",
          "height": 136
        },
        "outputId": "943fd057-eb60-423d-faf5-8c5d286448de"
      },
      "source": [
        "classdata['passrate'] = 100*classdata['pass']/classdata['students']\n",
        "classdata"
      ],
      "execution_count": 46,
      "outputs": [
        {
          "output_type": "execute_result",
          "data": {
            "text/html": [
              "<div>\n",
              "<style scoped>\n",
              "    .dataframe tbody tr th:only-of-type {\n",
              "        vertical-align: middle;\n",
              "    }\n",
              "\n",
              "    .dataframe tbody tr th {\n",
              "        vertical-align: top;\n",
              "    }\n",
              "\n",
              "    .dataframe thead th {\n",
              "        text-align: right;\n",
              "    }\n",
              "</style>\n",
              "<table border=\"1\" class=\"dataframe\">\n",
              "  <thead>\n",
              "    <tr style=\"text-align: right;\">\n",
              "      <th></th>\n",
              "      <th>year</th>\n",
              "      <th>students</th>\n",
              "      <th>pass</th>\n",
              "      <th>fail</th>\n",
              "      <th>passrate</th>\n",
              "    </tr>\n",
              "  </thead>\n",
              "  <tbody>\n",
              "    <tr>\n",
              "      <th>0</th>\n",
              "      <td>2017</td>\n",
              "      <td>38</td>\n",
              "      <td>32</td>\n",
              "      <td>6</td>\n",
              "      <td>84.210526</td>\n",
              "    </tr>\n",
              "    <tr>\n",
              "      <th>1</th>\n",
              "      <td>2018</td>\n",
              "      <td>64</td>\n",
              "      <td>50</td>\n",
              "      <td>14</td>\n",
              "      <td>78.125000</td>\n",
              "    </tr>\n",
              "    <tr>\n",
              "      <th>2</th>\n",
              "      <td>2019</td>\n",
              "      <td>247</td>\n",
              "      <td>247</td>\n",
              "      <td>0</td>\n",
              "      <td>100.000000</td>\n",
              "    </tr>\n",
              "  </tbody>\n",
              "</table>\n",
              "</div>"
            ],
            "text/plain": [
              "   year  students  pass  fail    passrate\n",
              "0  2017        38    32     6   84.210526\n",
              "1  2018        64    50    14   78.125000\n",
              "2  2019       247   247     0  100.000000"
            ]
          },
          "metadata": {
            "tags": []
          },
          "execution_count": 46
        }
      ]
    },
    {
      "cell_type": "markdown",
      "metadata": {
        "id": "6oNKVep7InDo",
        "colab_type": "text"
      },
      "source": [
        "Now create a new plot showing the change in percentage pass rate over the three years."
      ]
    },
    {
      "cell_type": "code",
      "metadata": {
        "id": "c-2zW8R-InDp",
        "colab_type": "code",
        "colab": {
          "base_uri": "https://localhost:8080/",
          "height": 312
        },
        "outputId": "6262209f-c3b4-4846-ddd3-ce35a3086b29"
      },
      "source": [
        "classdata.plot(kind='bar', x='year', y='passrate')"
      ],
      "execution_count": 53,
      "outputs": [
        {
          "output_type": "execute_result",
          "data": {
            "text/plain": [
              "<matplotlib.axes._subplots.AxesSubplot at 0x7f0363d589e8>"
            ]
          },
          "metadata": {
            "tags": []
          },
          "execution_count": 53
        },
        {
          "output_type": "display_data",
          "data": {
            "image/png": "[encoded data removed]",
            "text/plain": [
              "<Figure size 432x288 with 1 Axes>"
            ]
          },
          "metadata": {
            "tags": []
          }
        }
      ]
    },
    {
      "cell_type": "markdown",
      "metadata": {
        "id": "IX0EOeRfInDu",
        "colab_type": "text"
      },
      "source": [
        "## Checkpoint\n",
        "\n",
        "You got your copy of this notebook by forking and then cloning my Github repository.  Now that you have made some changes you should commit your work with a suitable commit message and push your changes back to your Github repository.  Show your tutor your updated Github repository to get your checkpoint mark."
      ]
    }
  ]
}
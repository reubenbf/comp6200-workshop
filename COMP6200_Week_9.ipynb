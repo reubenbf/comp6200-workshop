{
  "nbformat": 4,
  "nbformat_minor": 0,
  "metadata": {
    "kernelspec": {
      "display_name": "Python 3",
      "language": "python",
      "name": "python3"
    },
    "language_info": {
      "codemirror_mode": {
        "name": "ipython",
        "version": 3
      },
      "file_extension": ".py",
      "mimetype": "text/x-python",
      "name": "python",
      "nbconvert_exporter": "python",
      "pygments_lexer": "ipython3",
      "version": "3.7.4"
    },
    "colab": {
      "name": "COMP6200 Week 9.ipynb",
      "provenance": [],
      "collapsed_sections": [],
      "toc_visible": true
    }
  },
  "cells": [
    {
      "cell_type": "markdown",
      "metadata": {
        "id": "eLmwojc7F8q0",
        "colab_type": "text"
      },
      "source": [
        "# Classifying Iris Species\n",
        "In this section, we will go through a simple machine learning application and create\n",
        "our first classification model. In the process, we will introduce some core concepts and terms.\n",
        "\n",
        "Let’s assume that a hobby botanist is interested in distinguishing the species of some\n",
        "iris flowers that she has found. She has collected some measurements associated with\n",
        "each iris: the length and width of the petals and the length and width of the sepals, all\n",
        "measured in centimeters.\n",
        "\n",
        "She also has the measurements of some irises that have been previously identified by\n",
        "an expert botanist as belonging to the species setosa, versicolor, or virginica. For these\n",
        "measurements, she can be certain of which species each iris belongs to. Let’s assume\n",
        "that these are the only species our hobby botanist will encounter in the wild.\n",
        "\n",
        "Our goal is to build a machine learning model that can learn from the measurements\n",
        "of these irises whose species is known, so that we can predict the species for a new\n",
        "iris.\n",
        "\n",
        "Reference: Introduction to Machine learning with Python"
      ]
    },
    {
      "cell_type": "markdown",
      "metadata": {
        "id": "U8mHvbWOF8q1",
        "colab_type": "text"
      },
      "source": [
        "## Import Data\n",
        "The sklearn package provides some built-in real-world data sets to let users experience working on a real-world data analysis applications. The Iris data set is one of them. Please refer to https://scikit-learn.org/stable/datasets/index.html for more information about these built-in data sets."
      ]
    },
    {
      "cell_type": "code",
      "metadata": {
        "id": "DCy-H1yXF8q1",
        "colab_type": "code",
        "outputId": "51bda79d-9e71-42ab-d618-19e8160eceed",
        "colab": {
          "base_uri": "https://localhost:8080/",
          "height": 151
        }
      },
      "source": [
        "from sklearn import datasets\n",
        "\n",
        "iris_data = datasets.load_iris()\n",
        "\n",
        "print(\"Feature names: \\n\", iris_data.feature_names)\n",
        "print(\"Target names: \\n\", iris_data.target_names)\n",
        "\n",
        "print(\"Feature data size: \\n\", iris_data.data.shape)\n",
        "print(\"Target data size: \\n\", iris_data.target.shape)\n"
      ],
      "execution_count": 0,
      "outputs": [
        {
          "output_type": "stream",
          "text": [
            "Feature names: \n",
            " ['sepal length (cm)', 'sepal width (cm)', 'petal length (cm)', 'petal width (cm)']\n",
            "Target names: \n",
            " ['setosa' 'versicolor' 'virginica']\n",
            "Feature data size: \n",
            " (150, 4)\n",
            "Target data size: \n",
            " (150,)\n"
          ],
          "name": "stdout"
        }
      ]
    },
    {
      "cell_type": "markdown",
      "metadata": {
        "id": "Hg1f9pXfF8q6",
        "colab_type": "text"
      },
      "source": [
        "## Training and Testing Data"
      ]
    },
    {
      "cell_type": "markdown",
      "metadata": {
        "id": "EqGWrHpuF8q6",
        "colab_type": "text"
      },
      "source": [
        "We want to build a machine learning model from this data that can predict the species\n",
        "of iris for a new set of measurements. But before we can apply our model to new\n",
        "measurements, we need to know whether it actually works—that is, whether we\n",
        "should trust its predictions.\n",
        "\n",
        "To assess the model’s performance, we show it new data (data that it hasn’t seen\n",
        "before) for which we have labels. This is usually done by splitting the labeled data we\n",
        "have collected (here, our 150 flower measurements) into two parts. One part of the\n",
        "data is used to build our machine learning model, and is called the training data or\n",
        "training set. The rest of the data will be used to assess how well the model works; this\n",
        "is called the test data, test set, or hold-out set."
      ]
    },
    {
      "cell_type": "markdown",
      "metadata": {
        "id": "Ai0d7sziF8q7",
        "colab_type": "text"
      },
      "source": [
        "scikit-learn contains a function that shuffles the dataset and splits it for you: the\n",
        "[train_test_split](https://scikit-learn.org/stable/modules/generated/sklearn.model_selection.train_test_split.html#sklearn.model_selection.train_test_split) function. As default, this function extracts 75% of the rows in the data as the\n",
        "training set, together with the corresponding labels for this data. The remaining 25%\n",
        "of the data, together with the remaining labels, is declared as the test set. Deciding\n",
        "how much data you want to put into the training and the test set respectively is somewhat\n",
        "arbitrary, but using a test set containing 25% of the data is a good rule of thumb.\n",
        "\n",
        "In scikit-learn, data is usually denoted with a capital X, while labels are denoted by\n",
        "a lowercase y. This is inspired by the standard formulation f(x)=y in mathematics,\n",
        "where x is the input to a function and y is the output. Following more conventions\n",
        "from mathematics, we use a capital X because the data is a two-dimensional array (a\n",
        "matrix) and a lowercase y because the target is a one-dimensional array (a vector).\n",
        "Let’s call train_test_split on our data and assign the outputs using this nomenclature:"
      ]
    },
    {
      "cell_type": "code",
      "metadata": {
        "id": "YbLHbsvrF8q7",
        "colab_type": "code",
        "colab": {}
      },
      "source": [
        "from sklearn.model_selection import train_test_split\n",
        "\n",
        "X=iris_data.data\n",
        "y=iris_data.target\n",
        "X_train,X_test,y_train,y_test=train_test_split(X,y,test_size=0.25,random_state=142)"
      ],
      "execution_count": 0,
      "outputs": []
    },
    {
      "cell_type": "markdown",
      "metadata": {
        "id": "jco0-VJCF8q-",
        "colab_type": "text"
      },
      "source": [
        "Before making the split, the train_test_split function shuffles the dataset using a\n",
        "pseudorandom number generator. If we just took the last 25% of the data as a test set,\n",
        "all the data points would have the label 2, as the data points are sorted by the label\n",
        "(see the output for iris['target'] shown earlier). Using a test set containing only\n",
        "one of the three classes would not tell us much about how well our model generalizes,\n",
        "so we shuffle our data to make sure the test data contains data from all classes.\n",
        "\n",
        "To make sure that we will get the same output if we run the same function several\n",
        "times, we provide the pseudorandom number generator with a fixed seed using the\n",
        "random_state parameter. This will make the outcome deterministic, so this line will\n",
        "always have the same outcome. We will always fix the random_state in this way when\n",
        "using randomized procedures."
      ]
    },
    {
      "cell_type": "markdown",
      "metadata": {
        "id": "NkilsnnCF8q-",
        "colab_type": "text"
      },
      "source": [
        "The output of the train_test_split function is X_train, X_test, y_train, and\n",
        "y_test, which are all NumPy arrays. X_train contains 75% of the rows of the dataset,\n",
        "and X_test contains the remaining 25%:"
      ]
    },
    {
      "cell_type": "code",
      "metadata": {
        "id": "51_qeHymF8q_",
        "colab_type": "code",
        "outputId": "b552bcdb-a8f2-45c7-b40a-78164f219a45",
        "colab": {
          "base_uri": "https://localhost:8080/",
          "height": 50
        }
      },
      "source": [
        "print(\"X_train shape: {}\".format(X_train.shape))\n",
        "print(\"y_train shape: {}\".format(y_train.shape))"
      ],
      "execution_count": 0,
      "outputs": [
        {
          "output_type": "stream",
          "text": [
            "X_train shape: (112, 4)\n",
            "y_train shape: (112,)\n"
          ],
          "name": "stdout"
        }
      ]
    },
    {
      "cell_type": "code",
      "metadata": {
        "id": "4O0EzQgIF8rB",
        "colab_type": "code",
        "outputId": "36621e30-3fec-49e7-fd1c-5c601a716df5",
        "colab": {
          "base_uri": "https://localhost:8080/",
          "height": 50
        }
      },
      "source": [
        "print(\"X_test shape: {}\".format(X_test.shape))\n",
        "print(\"y_test shape: {}\".format(y_test.shape))"
      ],
      "execution_count": 0,
      "outputs": [
        {
          "output_type": "stream",
          "text": [
            "X_test shape: (38, 4)\n",
            "y_test shape: (38,)\n"
          ],
          "name": "stdout"
        }
      ]
    },
    {
      "cell_type": "markdown",
      "metadata": {
        "id": "lr7jYBE7F8rF",
        "colab_type": "text"
      },
      "source": [
        "## K-Nearest Neighbours"
      ]
    },
    {
      "cell_type": "markdown",
      "metadata": {
        "id": "5jffgz3jF8rF",
        "colab_type": "text"
      },
      "source": [
        "Now we can start building the actual machine learning model. There are many classification\n",
        "algorithms in scikit-learn that we could use. Here we will use a k-nearest\n",
        "neighbors classifier, which is easy to understand. Building this model only consists of\n",
        "storing the training set. To make a prediction for a new data point, the algorithm\n",
        "finds the point in the training set that is closest to the new point. Then it assigns the\n",
        "label of this training point to the new data point."
      ]
    },
    {
      "cell_type": "markdown",
      "metadata": {
        "id": "8L-ATbYhF8rG",
        "colab_type": "text"
      },
      "source": [
        "All machine learning models in scikit-learn are implemented in their own classes,\n",
        "which are called Estimator classes. The k-nearest neighbors classification algorithm\n",
        "is implemented in the [KNeighborsClassifier](https://scikit-learn.org/stable/modules/generated/sklearn.neighbors.KNeighborsClassifier.html#sklearn.neighbors.KNeighborsClassifier) class in the neighbors module. Before\n",
        "we can use the model, we need to instantiate the class into an object. This is when we\n",
        "will set any parameters of the model. The most important parameter of KNeighbors\n",
        "Classifier is the number of neighbors, which we will set to 1 for our first exploration:"
      ]
    },
    {
      "cell_type": "code",
      "metadata": {
        "id": "Zy_SRjMmF8rG",
        "colab_type": "code",
        "colab": {}
      },
      "source": [
        "from sklearn.neighbors import KNeighborsClassifier\n",
        "neigh = KNeighborsClassifier(n_neighbors=1)"
      ],
      "execution_count": 0,
      "outputs": []
    },
    {
      "cell_type": "markdown",
      "metadata": {
        "id": "HXwwEL_IF8rJ",
        "colab_type": "text"
      },
      "source": [
        "To build the model on the training set, we call the fit method of the knn object,\n",
        "which takes as arguments the NumPy array X_train containing the training data and\n",
        "the NumPy array y_train of the corresponding training labels:"
      ]
    },
    {
      "cell_type": "code",
      "metadata": {
        "id": "4FBtbWZJF8rK",
        "colab_type": "code",
        "outputId": "b10b8436-eefe-4470-d3cc-b142040ca5ea",
        "colab": {
          "base_uri": "https://localhost:8080/",
          "height": 67
        }
      },
      "source": [
        "neigh.fit(X_train, y_train)"
      ],
      "execution_count": 0,
      "outputs": [
        {
          "output_type": "execute_result",
          "data": {
            "text/plain": [
              "KNeighborsClassifier(algorithm='auto', leaf_size=30, metric='minkowski',\n",
              "                     metric_params=None, n_jobs=None, n_neighbors=1, p=2,\n",
              "                     weights='uniform')"
            ]
          },
          "metadata": {
            "tags": []
          },
          "execution_count": 61
        }
      ]
    },
    {
      "cell_type": "markdown",
      "metadata": {
        "id": "sJugtDVIF8rM",
        "colab_type": "text"
      },
      "source": [
        "## Making Predictions"
      ]
    },
    {
      "cell_type": "markdown",
      "metadata": {
        "id": "iSvAus00F8rN",
        "colab_type": "text"
      },
      "source": [
        "We can now make predictions using this model on new data for which we might not\n",
        "know the correct labels. Imagine we found an iris in the wild with a sepal length of\n",
        "5 cm, a sepal width of 2.9 cm, a petal length of 1 cm, and a petal width of 0.2 cm.\n",
        "What species of iris would this be? We can put this data into a NumPy array, again by\n",
        "calculating the shape—that is, the number of samples (1) multiplied by the number of\n",
        "features (4):"
      ]
    },
    {
      "cell_type": "code",
      "metadata": {
        "id": "Kit2qMa1F8rN",
        "colab_type": "code",
        "outputId": "6f4dbf13-7e5a-4b9a-fe37-caede5a79586",
        "colab": {
          "base_uri": "https://localhost:8080/",
          "height": 34
        }
      },
      "source": [
        "import numpy as np\n",
        "\n",
        "X_new = np.array([[5, 2.9, 1, 0.2]])\n",
        "print(\"X_new.shape: {}\".format(X_new.shape))"
      ],
      "execution_count": 0,
      "outputs": [
        {
          "output_type": "stream",
          "text": [
            "X_new.shape: (1, 4)\n"
          ],
          "name": "stdout"
        }
      ]
    },
    {
      "cell_type": "markdown",
      "metadata": {
        "id": "Btwk191aF8rP",
        "colab_type": "text"
      },
      "source": [
        "Predict the result label of X_new:"
      ]
    },
    {
      "cell_type": "code",
      "metadata": {
        "id": "dWNBYYquF8rQ",
        "colab_type": "code",
        "outputId": "edda34fd-cec5-46e8-e405-daef88777a8e",
        "colab": {
          "base_uri": "https://localhost:8080/",
          "height": 34
        }
      },
      "source": [
        "neigh.predict(X_new)"
      ],
      "execution_count": 0,
      "outputs": [
        {
          "output_type": "execute_result",
          "data": {
            "text/plain": [
              "array([0])"
            ]
          },
          "metadata": {
            "tags": []
          },
          "execution_count": 63
        }
      ]
    },
    {
      "cell_type": "markdown",
      "metadata": {
        "id": "Q_MBQjNeF8rS",
        "colab_type": "text"
      },
      "source": [
        "Our model predicts that this new iris belongs to the class 0, meaning its species is\n",
        "setosa. But how do we know whether we can trust our model? We don’t know the correct\n",
        "species of this sample, which is the whole point of building the model!"
      ]
    },
    {
      "cell_type": "markdown",
      "metadata": {
        "id": "E32WHsHfF8rS",
        "colab_type": "text"
      },
      "source": [
        "## Evaluating the Model"
      ]
    },
    {
      "cell_type": "markdown",
      "metadata": {
        "id": "sROnajEbF8rU",
        "colab_type": "text"
      },
      "source": [
        "This is where the test set that we created earlier comes in. This data was not used to\n",
        "build the model, but we do know what the correct species is for each iris in the test\n",
        "set. So, we can use the trained model to predict these data instances and calculate the [accuracy](https://scikit-learn.org/stable/modules/generated/sklearn.metrics.accuracy_score.html#sklearn.metrics.accuracy_score) to evaluate how good the model is."
      ]
    },
    {
      "cell_type": "markdown",
      "metadata": {
        "id": "Zt35jqvaF8rU",
        "colab_type": "text"
      },
      "source": [
        "#### Checkpoint 1: "
      ]
    },
    {
      "cell_type": "code",
      "metadata": {
        "id": "AkizQ8loF8rV",
        "colab_type": "code",
        "colab": {}
      },
      "source": [
        "from sklearn.metrics import accuracy_score, confusion_matrix\n",
        "\n",
        "y_pred = neigh.predict(X_test)"
      ],
      "execution_count": 0,
      "outputs": []
    },
    {
      "cell_type": "code",
      "metadata": {
        "id": "StC545nEJm_b",
        "colab_type": "code",
        "outputId": "ef178b76-1040-458e-93d6-c3b70c2398b9",
        "colab": {
          "base_uri": "https://localhost:8080/",
          "height": 34
        }
      },
      "source": [
        "accuracy_score(y_test, y_pred)"
      ],
      "execution_count": 0,
      "outputs": [
        {
          "output_type": "execute_result",
          "data": {
            "text/plain": [
              "0.8947368421052632"
            ]
          },
          "metadata": {
            "tags": []
          },
          "execution_count": 65
        }
      ]
    },
    {
      "cell_type": "code",
      "metadata": {
        "id": "kZ5qRnIAJoeJ",
        "colab_type": "code",
        "outputId": "1130d149-0281-4d31-896f-d9c65fa2d766",
        "colab": {
          "base_uri": "https://localhost:8080/",
          "height": 67
        }
      },
      "source": [
        "confusion_matrix(y_test, y_pred)"
      ],
      "execution_count": 0,
      "outputs": [
        {
          "output_type": "execute_result",
          "data": {
            "text/plain": [
              "array([[ 7,  0,  0],\n",
              "       [ 0, 15,  2],\n",
              "       [ 0,  2, 12]])"
            ]
          },
          "metadata": {
            "tags": []
          },
          "execution_count": 66
        }
      ]
    },
    {
      "cell_type": "markdown",
      "metadata": {
        "id": "LmB1p4E9vlFE",
        "colab_type": "text"
      },
      "source": [
        "The model has an accuracy rate of 89.47%, it is able to correctly predict every setosa class. 15/17 versicolour classes were predicted correctly while the rest were predicted as virginica. While 12/14 virginica classes were predicted correctly, the rest two being falsely predicted as versicolour."
      ]
    },
    {
      "cell_type": "markdown",
      "metadata": {
        "id": "4Q9zTQNlF8rX",
        "colab_type": "text"
      },
      "source": [
        "# Parameter Tuning with Cross Validation (CV)"
      ]
    },
    {
      "cell_type": "markdown",
      "metadata": {
        "id": "EudnRmKWF8rY",
        "colab_type": "text"
      },
      "source": [
        "In this section, we’ll explore a CV method that can be used to tune the hyperparameter K using the above training and test data.\n",
        "\n",
        "Scikit-learn comes in handy with its [cross_val_score](https://scikit-learn.org/stable/modules/generated/sklearn.model_selection.cross_val_score.html#sklearn.model_selection.cross_val_score) method. We specifiy that we are performing 10 folds with the cv=10 parameter and that our scoring metric should be accuracy since we are in a classification setting. In each iteration, the training data take 90% of the total data while testing data takes 10%. The average on the accuracies reported from each iteration will make the testing accuracy more robust than just a single split of the data.\n"
      ]
    },
    {
      "cell_type": "code",
      "metadata": {
        "scrolled": true,
        "id": "M2-q931rF8rY",
        "colab_type": "code",
        "colab": {}
      },
      "source": [
        "from sklearn.neighbors import KNeighborsClassifier\n",
        "from sklearn.model_selection import cross_val_score\n",
        "cv_scores = []"
      ],
      "execution_count": 0,
      "outputs": []
    },
    {
      "cell_type": "code",
      "metadata": {
        "id": "9SqxxA_CF8ra",
        "colab_type": "code",
        "outputId": "895cd5cb-9b28-4725-a5a3-d43fb3ef162e",
        "colab": {
          "base_uri": "https://localhost:8080/",
          "height": 84
        }
      },
      "source": [
        "neigh = KNeighborsClassifier()\n",
        "cv_scores = cross_val_score(neigh, X, y, cv=10)\n",
        "print('Accuracy for each round: \\n', cv_scores)\n",
        "print('Average accuracy: %.4f +- %.4f' % (cv_scores.mean(), cv_scores.std()))"
      ],
      "execution_count": 0,
      "outputs": [
        {
          "output_type": "stream",
          "text": [
            "Accuracy for each round: \n",
            " [1.         0.93333333 1.         1.         0.86666667 0.93333333\n",
            " 0.93333333 1.         1.         1.        ]\n",
            "Average accuracy: 0.9667 +- 0.0447\n"
          ],
          "name": "stdout"
        }
      ]
    },
    {
      "cell_type": "markdown",
      "metadata": {
        "id": "qd58jlncF8re",
        "colab_type": "text"
      },
      "source": [
        "#### Checkpoint 2"
      ]
    },
    {
      "cell_type": "markdown",
      "metadata": {
        "id": "lrAUtv65xG58",
        "colab_type": "text"
      },
      "source": [
        "Plot the misclassification error versus K. You need to figure out the possible values of K. If the number of possible values is too big, you can take some values with a certain step, e.g., K = 1, 5, 10, ... with a step of 5. "
      ]
    },
    {
      "cell_type": "code",
      "metadata": {
        "id": "ct_X_2QKF8re",
        "colab_type": "code",
        "outputId": "4e9ae8c1-1051-4322-c92f-4f7a510566f9",
        "colab": {
          "base_uri": "https://localhost:8080/",
          "height": 334
        }
      },
      "source": [
        "import matplotlib.pyplot as plt\n",
        "\n",
        "training_error=list()\n",
        "testing_error=list()\n",
        "\n",
        "for i in range(1, 50):\n",
        "    clf = KNeighborsClassifier(n_neighbors = i)\n",
        "    clf.fit(X_train, y_train)\n",
        "    training_error.append(1.0-accuracy_score(clf.predict(X_train), y_train))\n",
        "    testing_error.append(1.0-accuracy_score(clf.predict(X_test), y_test))\n",
        "\n",
        "# Plot the relationship\n",
        "plt.figure(figsize=(15,5))\n",
        "plt.plot(range(1, len(training_error)+1), training_error, marker='x', label='Training Error')\n",
        "plt.plot(range(1, len(testing_error)+1), testing_error, marker='o', label='Testing Error')\n",
        "plt.xlabel('K')\n",
        "plt.ylabel('Error')\n",
        "plt.legend(loc='best')\n",
        "plt.show()"
      ],
      "execution_count": 0,
      "outputs": [
        {
          "output_type": "display_data",
          "data": {
            "image/png": "[encoded data removed]",
            "text/plain": [
              "<Figure size 1080x360 with 1 Axes>"
            ]
          },
          "metadata": {
            "tags": [],
            "needs_background": "light"
          }
        }
      ]
    },
    {
      "cell_type": "markdown",
      "metadata": {
        "id": "cTeevUCHF8rh",
        "colab_type": "text"
      },
      "source": [
        "Use the [GridSearch](https://scikit-learn.org/stable/modules/generated/sklearn.model_selection.GridSearchCV.html#sklearn.model_selection.GridSearchCV) method to accomplish automatic model selection. Check against the figure plotted above to see if the selected hyperparameter K can lead to the lowest misclassification error. "
      ]
    },
    {
      "cell_type": "code",
      "metadata": {
        "id": "f0mvPIC_F8ri",
        "colab_type": "code",
        "outputId": "05cc1b3c-26c0-4762-caba-eda576c19db8",
        "colab": {
          "base_uri": "https://localhost:8080/",
          "height": 50
        }
      },
      "source": [
        "from sklearn.model_selection import GridSearchCV\n",
        "\n",
        "# Define search space for parameters\n",
        "parameter_grid = {'n_neighbors': range(1, 51)}\n",
        "\n",
        "# Create the machine learning model\n",
        "clf = GridSearchCV(neigh, parameter_grid, scoring='accuracy', cv=10)\n",
        "clf.fit(X, y)\n",
        "\n",
        "# Identify the best parameter(s)\n",
        "print('Best K value: ', clf.best_params_['n_neighbors'])\n",
        "print('The accuracy: ', clf.best_score_)"
      ],
      "execution_count": 0,
      "outputs": [
        {
          "output_type": "stream",
          "text": [
            "Best K value:  13\n",
            "The accuracy:  0.9800000000000001\n"
          ],
          "name": "stdout"
        }
      ]
    },
    {
      "cell_type": "markdown",
      "metadata": {
        "id": "nSF7nS7gxQQR",
        "colab_type": "text"
      },
      "source": [
        "The Error vs K plot shows training and testing error rates for increasing values of K. The vales of K range from 1 to 50 with steps of 1, showing a clear detail of error trend. We notice how training error keeps increasing as K increases, the testing error at K=1 is however higher to begin with due to overfitting. We do notice how for K > 40, the error rates are maximized. This is a general encounter of underfitting. \n",
        "\n",
        "Therefore need to pick a good optimal value for K to be able to get the most  out of the model. The GridSearch method does the needful by automatically selecting an optimal K value. We create a range of K values to be searched within, declare our classification model and pass it to the GridSearch cross validation module for 10 folds. This can be used to find a suitable k value.\n",
        "\n",
        "When compared with the error vs plot, the lower error rates for training and testing are both around k values for 7 and 13 visually. The cross validation choose 13 as the best k-value, going in hand with each other."
      ]
    }
  ]
}
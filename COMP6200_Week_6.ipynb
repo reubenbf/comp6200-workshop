{
  "nbformat": 4,
  "nbformat_minor": 0,
  "metadata": {
    "kernelspec": {
      "display_name": "Python 3",
      "language": "python",
      "name": "python3"
    },
    "language_info": {
      "codemirror_mode": {
        "name": "ipython",
        "version": 3
      },
      "file_extension": ".py",
      "mimetype": "text/x-python",
      "name": "python",
      "nbconvert_exporter": "python",
      "pygments_lexer": "ipython3",
      "version": "3.6.8"
    },
    "colab": {
      "name": "COMP6200 Week 6.ipynb",
      "provenance": [],
      "collapsed_sections": [],
      "toc_visible": true
    }
  },
  "cells": [
    {
      "cell_type": "markdown",
      "metadata": {
        "id": "5nJiGFtWQI-X",
        "colab_type": "text"
      },
      "source": [
        "## Logistic Regression\n",
        "\n",
        "Breast Cancer data from [the UCI repository](http://archive.ics.uci.edu/ml/datasets/Breast+Cancer+Wisconsin+%28Diagnostic%29) contains records corresponding to \n",
        "cases of observed tumors.   There are a number of observations for each and a categorisation in the `class` column: 2 for benign (good), 4 for malignant (bad).  Your task is to build a logistic regression model to classify these cases. \n",
        "\n",
        "The data is provided as a CSV file.  There are a small number of cases where no value is available, these are indicated in the data with `?`. I have used the `na_values` keyword for `read_csv` to have these interpreted as `NaN` (Not a Number).  Your first task is to decide what to do with these rows. You could just drop these rows or you could [impute them from the other data](http://scikit-learn.org/stable/modules/preprocessing.html#imputation-of-missing-values).\n",
        "\n",
        "You then need to follow the procedure outlined in the lecture for generating a train/test set, building and evaluating a model. Your goal is to build the best model possible over this data.   Your first step should be to build a logistic regression model using all of the features that are available.\n",
        "  "
      ]
    },
    {
      "cell_type": "code",
      "metadata": {
        "id": "VMHx9Pn2QI-Y",
        "colab_type": "code",
        "colab": {}
      },
      "source": [
        "import pandas as pd\n",
        "import numpy as np\n",
        "import seaborn as sns\n",
        "import matplotlib.pyplot as plt\n",
        "%matplotlib inline\n",
        "from sklearn.model_selection import train_test_split\n",
        "from sklearn import linear_model\n",
        "from sklearn.metrics import r2_score, mean_squared_error, precision_score\n",
        "from sklearn.linear_model import LogisticRegression\n",
        "from sklearn.metrics import confusion_matrix, accuracy_score\n",
        "from sklearn.feature_selection import RFE\n",
        "from sklearn.experimental import enable_iterative_imputer\n",
        "from sklearn.impute import IterativeImputer"
      ],
      "execution_count": null,
      "outputs": []
    },
    {
      "cell_type": "code",
      "metadata": {
        "id": "TgQZCEjqQI-f",
        "colab_type": "code",
        "colab": {
          "base_uri": "https://localhost:8080/",
          "height": 215
        },
        "outputId": "7ada1f7f-24a0-4679-e504-ff502af660dd"
      },
      "source": [
        "bcancer = pd.read_csv(\"files/breast-cancer-wisconsin.csv\", na_values=\"?\")\n",
        "bcancer.head()"
      ],
      "execution_count": null,
      "outputs": [
        {
          "output_type": "execute_result",
          "data": {
            "text/html": [
              "<div>\n",
              "<style scoped>\n",
              "    .dataframe tbody tr th:only-of-type {\n",
              "        vertical-align: middle;\n",
              "    }\n",
              "\n",
              "    .dataframe tbody tr th {\n",
              "        vertical-align: top;\n",
              "    }\n",
              "\n",
              "    .dataframe thead th {\n",
              "        text-align: right;\n",
              "    }\n",
              "</style>\n",
              "<table border=\"1\" class=\"dataframe\">\n",
              "  <thead>\n",
              "    <tr style=\"text-align: right;\">\n",
              "      <th></th>\n",
              "      <th>sample_code_number</th>\n",
              "      <th>clump_thickness</th>\n",
              "      <th>uniformity_cell_size</th>\n",
              "      <th>uniformity_cell_shape</th>\n",
              "      <th>marginal_adhesion</th>\n",
              "      <th>single_epithelial_cell_size</th>\n",
              "      <th>bare_nuclei</th>\n",
              "      <th>bland_chromatin</th>\n",
              "      <th>normal_nucleoli</th>\n",
              "      <th>mitoses</th>\n",
              "      <th>class</th>\n",
              "    </tr>\n",
              "  </thead>\n",
              "  <tbody>\n",
              "    <tr>\n",
              "      <th>0</th>\n",
              "      <td>1000025</td>\n",
              "      <td>5</td>\n",
              "      <td>1</td>\n",
              "      <td>1</td>\n",
              "      <td>1</td>\n",
              "      <td>2</td>\n",
              "      <td>1.0</td>\n",
              "      <td>3</td>\n",
              "      <td>1</td>\n",
              "      <td>1</td>\n",
              "      <td>2</td>\n",
              "    </tr>\n",
              "    <tr>\n",
              "      <th>1</th>\n",
              "      <td>1002945</td>\n",
              "      <td>5</td>\n",
              "      <td>4</td>\n",
              "      <td>4</td>\n",
              "      <td>5</td>\n",
              "      <td>7</td>\n",
              "      <td>10.0</td>\n",
              "      <td>3</td>\n",
              "      <td>2</td>\n",
              "      <td>1</td>\n",
              "      <td>2</td>\n",
              "    </tr>\n",
              "    <tr>\n",
              "      <th>2</th>\n",
              "      <td>1015425</td>\n",
              "      <td>3</td>\n",
              "      <td>1</td>\n",
              "      <td>1</td>\n",
              "      <td>1</td>\n",
              "      <td>2</td>\n",
              "      <td>2.0</td>\n",
              "      <td>3</td>\n",
              "      <td>1</td>\n",
              "      <td>1</td>\n",
              "      <td>2</td>\n",
              "    </tr>\n",
              "    <tr>\n",
              "      <th>3</th>\n",
              "      <td>1016277</td>\n",
              "      <td>6</td>\n",
              "      <td>8</td>\n",
              "      <td>8</td>\n",
              "      <td>1</td>\n",
              "      <td>3</td>\n",
              "      <td>4.0</td>\n",
              "      <td>3</td>\n",
              "      <td>7</td>\n",
              "      <td>1</td>\n",
              "      <td>2</td>\n",
              "    </tr>\n",
              "    <tr>\n",
              "      <th>4</th>\n",
              "      <td>1017023</td>\n",
              "      <td>4</td>\n",
              "      <td>1</td>\n",
              "      <td>1</td>\n",
              "      <td>3</td>\n",
              "      <td>2</td>\n",
              "      <td>1.0</td>\n",
              "      <td>3</td>\n",
              "      <td>1</td>\n",
              "      <td>1</td>\n",
              "      <td>2</td>\n",
              "    </tr>\n",
              "  </tbody>\n",
              "</table>\n",
              "</div>"
            ],
            "text/plain": [
              "   sample_code_number  clump_thickness  ...  mitoses  class\n",
              "0             1000025                5  ...        1      2\n",
              "1             1002945                5  ...        1      2\n",
              "2             1015425                3  ...        1      2\n",
              "3             1016277                6  ...        1      2\n",
              "4             1017023                4  ...        1      2\n",
              "\n",
              "[5 rows x 11 columns]"
            ]
          },
          "metadata": {
            "tags": []
          },
          "execution_count": 11
        }
      ]
    },
    {
      "cell_type": "code",
      "metadata": {
        "id": "YartlrNRQI-k",
        "colab_type": "code",
        "colab": {}
      },
      "source": [
        "bcancer.describe(include='all')"
      ],
      "execution_count": null,
      "outputs": []
    },
    {
      "cell_type": "code",
      "metadata": {
        "id": "mx3uv2zzYOVx",
        "colab_type": "code",
        "colab": {}
      },
      "source": [
        "imp = IterativeImputer(max_iter=10, verbose=0)\n",
        "imp.fit(bcancer)\n",
        "imputed_bcancer = imp.transform(bcancer)\n",
        "imputed_bcancer = pd.DataFrame(imputed_bcancer, columns=bcancer.columns)"
      ],
      "execution_count": null,
      "outputs": []
    },
    {
      "cell_type": "code",
      "metadata": {
        "id": "4gtgkMaoQI-o",
        "colab_type": "code",
        "colab": {}
      },
      "source": [
        "imputed_bcancer.describe()"
      ],
      "execution_count": null,
      "outputs": []
    },
    {
      "cell_type": "code",
      "metadata": {
        "id": "Kgnp7q1aQI-0",
        "colab_type": "code",
        "colab": {
          "base_uri": "https://localhost:8080/",
          "height": 422
        },
        "outputId": "98c1758e-a04a-4fa5-c9e2-385065f3ca00"
      },
      "source": [
        "train, test = train_test_split(imputed_bcancer, test_size=0.2)"
      ],
      "execution_count": null,
      "outputs": [
        {
          "output_type": "execute_result",
          "data": {
            "text/html": [
              "<div>\n",
              "<style scoped>\n",
              "    .dataframe tbody tr th:only-of-type {\n",
              "        vertical-align: middle;\n",
              "    }\n",
              "\n",
              "    .dataframe tbody tr th {\n",
              "        vertical-align: top;\n",
              "    }\n",
              "\n",
              "    .dataframe thead th {\n",
              "        text-align: right;\n",
              "    }\n",
              "</style>\n",
              "<table border=\"1\" class=\"dataframe\">\n",
              "  <thead>\n",
              "    <tr style=\"text-align: right;\">\n",
              "      <th></th>\n",
              "      <th>sample_code_number</th>\n",
              "      <th>clump_thickness</th>\n",
              "      <th>uniformity_cell_size</th>\n",
              "      <th>uniformity_cell_shape</th>\n",
              "      <th>marginal_adhesion</th>\n",
              "      <th>single_epithelial_cell_size</th>\n",
              "      <th>bare_nuclei</th>\n",
              "      <th>bland_chromatin</th>\n",
              "      <th>normal_nucleoli</th>\n",
              "      <th>mitoses</th>\n",
              "      <th>class</th>\n",
              "    </tr>\n",
              "  </thead>\n",
              "  <tbody>\n",
              "    <tr>\n",
              "      <th>440</th>\n",
              "      <td>608157.0</td>\n",
              "      <td>10.0</td>\n",
              "      <td>4.0</td>\n",
              "      <td>3.0</td>\n",
              "      <td>10.0</td>\n",
              "      <td>4.0</td>\n",
              "      <td>10.0</td>\n",
              "      <td>10.0</td>\n",
              "      <td>1.0</td>\n",
              "      <td>1.0</td>\n",
              "      <td>4.0</td>\n",
              "    </tr>\n",
              "    <tr>\n",
              "      <th>65</th>\n",
              "      <td>1116998.0</td>\n",
              "      <td>10.0</td>\n",
              "      <td>4.0</td>\n",
              "      <td>2.0</td>\n",
              "      <td>1.0</td>\n",
              "      <td>3.0</td>\n",
              "      <td>2.0</td>\n",
              "      <td>4.0</td>\n",
              "      <td>3.0</td>\n",
              "      <td>10.0</td>\n",
              "      <td>4.0</td>\n",
              "    </tr>\n",
              "    <tr>\n",
              "      <th>432</th>\n",
              "      <td>1277629.0</td>\n",
              "      <td>5.0</td>\n",
              "      <td>1.0</td>\n",
              "      <td>1.0</td>\n",
              "      <td>1.0</td>\n",
              "      <td>2.0</td>\n",
              "      <td>1.0</td>\n",
              "      <td>2.0</td>\n",
              "      <td>2.0</td>\n",
              "      <td>1.0</td>\n",
              "      <td>2.0</td>\n",
              "    </tr>\n",
              "    <tr>\n",
              "      <th>545</th>\n",
              "      <td>1197527.0</td>\n",
              "      <td>5.0</td>\n",
              "      <td>1.0</td>\n",
              "      <td>1.0</td>\n",
              "      <td>1.0</td>\n",
              "      <td>2.0</td>\n",
              "      <td>1.0</td>\n",
              "      <td>2.0</td>\n",
              "      <td>1.0</td>\n",
              "      <td>1.0</td>\n",
              "      <td>2.0</td>\n",
              "    </tr>\n",
              "    <tr>\n",
              "      <th>74</th>\n",
              "      <td>1126417.0</td>\n",
              "      <td>10.0</td>\n",
              "      <td>6.0</td>\n",
              "      <td>4.0</td>\n",
              "      <td>1.0</td>\n",
              "      <td>3.0</td>\n",
              "      <td>4.0</td>\n",
              "      <td>3.0</td>\n",
              "      <td>2.0</td>\n",
              "      <td>3.0</td>\n",
              "      <td>4.0</td>\n",
              "    </tr>\n",
              "    <tr>\n",
              "      <th>...</th>\n",
              "      <td>...</td>\n",
              "      <td>...</td>\n",
              "      <td>...</td>\n",
              "      <td>...</td>\n",
              "      <td>...</td>\n",
              "      <td>...</td>\n",
              "      <td>...</td>\n",
              "      <td>...</td>\n",
              "      <td>...</td>\n",
              "      <td>...</td>\n",
              "      <td>...</td>\n",
              "    </tr>\n",
              "    <tr>\n",
              "      <th>498</th>\n",
              "      <td>1204558.0</td>\n",
              "      <td>4.0</td>\n",
              "      <td>1.0</td>\n",
              "      <td>1.0</td>\n",
              "      <td>1.0</td>\n",
              "      <td>2.0</td>\n",
              "      <td>1.0</td>\n",
              "      <td>2.0</td>\n",
              "      <td>1.0</td>\n",
              "      <td>1.0</td>\n",
              "      <td>2.0</td>\n",
              "    </tr>\n",
              "    <tr>\n",
              "      <th>356</th>\n",
              "      <td>859164.0</td>\n",
              "      <td>5.0</td>\n",
              "      <td>3.0</td>\n",
              "      <td>3.0</td>\n",
              "      <td>1.0</td>\n",
              "      <td>3.0</td>\n",
              "      <td>3.0</td>\n",
              "      <td>3.0</td>\n",
              "      <td>3.0</td>\n",
              "      <td>3.0</td>\n",
              "      <td>4.0</td>\n",
              "    </tr>\n",
              "    <tr>\n",
              "      <th>645</th>\n",
              "      <td>1303489.0</td>\n",
              "      <td>3.0</td>\n",
              "      <td>1.0</td>\n",
              "      <td>1.0</td>\n",
              "      <td>1.0</td>\n",
              "      <td>2.0</td>\n",
              "      <td>1.0</td>\n",
              "      <td>2.0</td>\n",
              "      <td>1.0</td>\n",
              "      <td>1.0</td>\n",
              "      <td>2.0</td>\n",
              "    </tr>\n",
              "    <tr>\n",
              "      <th>461</th>\n",
              "      <td>1268804.0</td>\n",
              "      <td>3.0</td>\n",
              "      <td>1.0</td>\n",
              "      <td>1.0</td>\n",
              "      <td>1.0</td>\n",
              "      <td>2.0</td>\n",
              "      <td>5.0</td>\n",
              "      <td>1.0</td>\n",
              "      <td>1.0</td>\n",
              "      <td>1.0</td>\n",
              "      <td>2.0</td>\n",
              "    </tr>\n",
              "    <tr>\n",
              "      <th>635</th>\n",
              "      <td>1260659.0</td>\n",
              "      <td>3.0</td>\n",
              "      <td>1.0</td>\n",
              "      <td>4.0</td>\n",
              "      <td>1.0</td>\n",
              "      <td>2.0</td>\n",
              "      <td>1.0</td>\n",
              "      <td>1.0</td>\n",
              "      <td>1.0</td>\n",
              "      <td>1.0</td>\n",
              "      <td>2.0</td>\n",
              "    </tr>\n",
              "  </tbody>\n",
              "</table>\n",
              "<p>559 rows × 11 columns</p>\n",
              "</div>"
            ],
            "text/plain": [
              "     sample_code_number  clump_thickness  ...  mitoses  class\n",
              "440            608157.0             10.0  ...      1.0    4.0\n",
              "65            1116998.0             10.0  ...     10.0    4.0\n",
              "432           1277629.0              5.0  ...      1.0    2.0\n",
              "545           1197527.0              5.0  ...      1.0    2.0\n",
              "74            1126417.0             10.0  ...      3.0    4.0\n",
              "..                  ...              ...  ...      ...    ...\n",
              "498           1204558.0              4.0  ...      1.0    2.0\n",
              "356            859164.0              5.0  ...      3.0    4.0\n",
              "645           1303489.0              3.0  ...      1.0    2.0\n",
              "461           1268804.0              3.0  ...      1.0    2.0\n",
              "635           1260659.0              3.0  ...      1.0    2.0\n",
              "\n",
              "[559 rows x 11 columns]"
            ]
          },
          "metadata": {
            "tags": []
          },
          "execution_count": 34
        }
      ]
    },
    {
      "cell_type": "code",
      "metadata": {
        "id": "vfsX4dhNVDqH",
        "colab_type": "code",
        "colab": {
          "base_uri": "https://localhost:8080/",
          "height": 101
        },
        "outputId": "9626ad19-c48b-4952-a54f-a3acf4eaea4b"
      },
      "source": [
        "X_train = train.drop(['class','sample_code_number'], axis=1)\n",
        "y_train = train['class']\n",
        "X_test = test.drop(['class','sample_code_number'], axis=1)\n",
        "y_test = test['class']\n",
        "logreg = linear_model.LogisticRegression(C=1e9)\n",
        "logreg.fit(X_train, y_train)"
      ],
      "execution_count": null,
      "outputs": [
        {
          "output_type": "execute_result",
          "data": {
            "text/plain": [
              "LogisticRegression(C=1000000000.0, class_weight=None, dual=False,\n",
              "                   fit_intercept=True, intercept_scaling=1, l1_ratio=None,\n",
              "                   max_iter=100, multi_class='auto', n_jobs=None, penalty='l2',\n",
              "                   random_state=None, solver='lbfgs', tol=0.0001, verbose=0,\n",
              "                   warm_start=False)"
            ]
          },
          "metadata": {
            "tags": []
          },
          "execution_count": 27
        }
      ]
    },
    {
      "cell_type": "markdown",
      "metadata": {
        "id": "zKkBchbAQI-5",
        "colab_type": "text"
      },
      "source": [
        "### Evaluation\n",
        "\n",
        "To evaluate a classification model we want to look at how many cases were correctly classified and how many\n",
        "were in error.  In this case we have two outcomes - benign and malignant.   SKlearn has some useful tools, the \n",
        "[accuracy_score]() function gives a score from 0-1 for the proportion correct.  The \n",
        "[confusion_matrix](http://scikit-learn.org/stable/modules/model_evaluation.html#confusion-matrix) function \n",
        "shows how many were classified correctly and what errors were made.  Use these to summarise the performance of \n",
        "your model (these functions have already been imported above)."
      ]
    },
    {
      "cell_type": "code",
      "metadata": {
        "id": "lmNAAgl7QI-6",
        "colab_type": "code",
        "colab": {}
      },
      "source": [
        "predicted = logreg.predict(X_train)\n",
        "mse = mean_squared_error(y_train, predicted)\n",
        "r2 = r2_score(y_train, predicted)\n",
        "acc = accuracy_score(y_train,predicted)\n",
        "cm1 = confusion_matrix(y_train,predicted)\n",
        "model = pd.DataFrame([('Training',mse, r2, acc, cm1)], columns=['Data','MSE', 'R2 score','Accuracy','Confusion Matrix'])\n",
        "\n",
        "predicted = logreg.predict(X_test)\n",
        "mse = mean_squared_error(y_test, predicted)\n",
        "r2 = r2_score(y_test, predicted)\n",
        "acc = accuracy_score(y_test,predicted)\n",
        "cm2 = confusion_matrix(y_test,predicted)\n",
        "model.loc[1] = ['Testing', mse, r2, acc, cm2]"
      ],
      "execution_count": null,
      "outputs": []
    },
    {
      "cell_type": "markdown",
      "metadata": {
        "id": "n8JJP6ZPQI_B",
        "colab_type": "text"
      },
      "source": [
        "### Checkpoint\n",
        "\n",
        "The checkpoint for this week workshop is to report accuracy on training and test set. Also, provide the confusion matrix to check for which class model is doing good and where error were are made. Based on these results, provide explaination about:\n",
        "- Can we deploy this trained model in hospital's settings?\n",
        "- Is model overfitting?\n",
        "- For which class model is making error? Read about False Positive Rate (FPR) and False Negative Rate (FNR)\n",
        "\n",
        "**On iLearn under Practical Week 6, make your submission in the form of results and their interpretation (1 paragraph) to get mark for this week checkpoint.**"
      ]
    },
    {
      "cell_type": "code",
      "metadata": {
        "id": "0ya1DjbBQI_E",
        "colab_type": "code",
        "colab": {
          "base_uri": "https://localhost:8080/",
          "height": 106
        },
        "outputId": "909e1a62-c7c6-42a6-a4a3-745413582deb"
      },
      "source": [
        "model"
      ],
      "execution_count": null,
      "outputs": [
        {
          "output_type": "execute_result",
          "data": {
            "text/html": [
              "<div>\n",
              "<style scoped>\n",
              "    .dataframe tbody tr th:only-of-type {\n",
              "        vertical-align: middle;\n",
              "    }\n",
              "\n",
              "    .dataframe tbody tr th {\n",
              "        vertical-align: top;\n",
              "    }\n",
              "\n",
              "    .dataframe thead th {\n",
              "        text-align: right;\n",
              "    }\n",
              "</style>\n",
              "<table border=\"1\" class=\"dataframe\">\n",
              "  <thead>\n",
              "    <tr style=\"text-align: right;\">\n",
              "      <th></th>\n",
              "      <th>Data</th>\n",
              "      <th>MSE</th>\n",
              "      <th>R2 score</th>\n",
              "      <th>Accuracy</th>\n",
              "      <th>Confusion Matrix</th>\n",
              "    </tr>\n",
              "  </thead>\n",
              "  <tbody>\n",
              "    <tr>\n",
              "      <th>0</th>\n",
              "      <td>Training</td>\n",
              "      <td>0.157424</td>\n",
              "      <td>0.826324</td>\n",
              "      <td>0.960644</td>\n",
              "      <td>[[355, 10], [12, 182]]</td>\n",
              "    </tr>\n",
              "    <tr>\n",
              "      <th>1</th>\n",
              "      <td>Testing</td>\n",
              "      <td>0.057143</td>\n",
              "      <td>0.935941</td>\n",
              "      <td>0.985714</td>\n",
              "      <td>[[91, 2], [0, 47]]</td>\n",
              "    </tr>\n",
              "  </tbody>\n",
              "</table>\n",
              "</div>"
            ],
            "text/plain": [
              "       Data       MSE  R2 score  Accuracy        Confusion Matrix\n",
              "0  Training  0.157424  0.826324  0.960644  [[355, 10], [12, 182]]\n",
              "1   Testing  0.057143  0.935941  0.985714      [[91, 2], [0, 47]]"
            ]
          },
          "metadata": {
            "tags": []
          },
          "execution_count": 31
        }
      ]
    },
    {
      "cell_type": "markdown",
      "metadata": {
        "id": "2Lr7OyMIMD22",
        "colab_type": "text"
      },
      "source": [
        "The models have an accuracy of 0.96 and 0.98 when tested on training and testing data which is quite good for a logistic regression model, they can be deployed in a hospital setting. \n",
        "\n",
        "The R2 score for training set is very close to the testing set and therefore the model isn't overfitting. "
      ]
    },
    {
      "cell_type": "code",
      "metadata": {
        "id": "GMFo52IdK3EG",
        "colab_type": "code",
        "colab": {}
      },
      "source": [
        "tn = cm1[0, 0]\n",
        "tp = cm1[1, 1]\n",
        "fn = cm1[1, 0]\n",
        "fp = cm1[0, 1]\n",
        "\n",
        "model.loc[0,'FPR'] = fp / (fp + tn)\n",
        "model.loc[0,'FNR'] = fn / (fn + tp)\n",
        "model.loc[0,'TNR'] = tn / (tn + fp)\n",
        "model.loc[0,'TPR'] = tp / (tp + fn)\n",
        "\n",
        "tn = cm2[0, 0]\n",
        "tp = cm2[1, 1]\n",
        "fn = cm2[1, 0]\n",
        "fp = cm2[0, 1]\n",
        "\n",
        "model.loc[1,'FPR'] = fp / (fp + tn)\n",
        "model.loc[1,'FNR'] = fn / (fn + tp)\n",
        "model.loc[1,'TNR'] = tn / (tn + fp)\n",
        "model.loc[1,'TPR'] = tp / (tp + fn)"
      ],
      "execution_count": null,
      "outputs": []
    },
    {
      "cell_type": "code",
      "metadata": {
        "id": "u634A7K6uiiE",
        "colab_type": "code",
        "colab": {
          "base_uri": "https://localhost:8080/",
          "height": 106
        },
        "outputId": "a3900746-8ab3-471e-df5e-729b285e11d5"
      },
      "source": [
        "model"
      ],
      "execution_count": null,
      "outputs": [
        {
          "output_type": "execute_result",
          "data": {
            "text/html": [
              "<div>\n",
              "<style scoped>\n",
              "    .dataframe tbody tr th:only-of-type {\n",
              "        vertical-align: middle;\n",
              "    }\n",
              "\n",
              "    .dataframe tbody tr th {\n",
              "        vertical-align: top;\n",
              "    }\n",
              "\n",
              "    .dataframe thead th {\n",
              "        text-align: right;\n",
              "    }\n",
              "</style>\n",
              "<table border=\"1\" class=\"dataframe\">\n",
              "  <thead>\n",
              "    <tr style=\"text-align: right;\">\n",
              "      <th></th>\n",
              "      <th>Data</th>\n",
              "      <th>MSE</th>\n",
              "      <th>R2 score</th>\n",
              "      <th>Accuracy</th>\n",
              "      <th>Confusion Matrix</th>\n",
              "      <th>FPR</th>\n",
              "      <th>FNR</th>\n",
              "      <th>TNR</th>\n",
              "      <th>TPR</th>\n",
              "    </tr>\n",
              "  </thead>\n",
              "  <tbody>\n",
              "    <tr>\n",
              "      <th>0</th>\n",
              "      <td>Training</td>\n",
              "      <td>0.157424</td>\n",
              "      <td>0.826324</td>\n",
              "      <td>0.960644</td>\n",
              "      <td>[[355, 10], [12, 182]]</td>\n",
              "      <td>0.027397</td>\n",
              "      <td>0.061856</td>\n",
              "      <td>0.972603</td>\n",
              "      <td>0.938144</td>\n",
              "    </tr>\n",
              "    <tr>\n",
              "      <th>1</th>\n",
              "      <td>Testing</td>\n",
              "      <td>0.057143</td>\n",
              "      <td>0.935941</td>\n",
              "      <td>0.985714</td>\n",
              "      <td>[[91, 2], [0, 47]]</td>\n",
              "      <td>0.021505</td>\n",
              "      <td>0.000000</td>\n",
              "      <td>0.978495</td>\n",
              "      <td>1.000000</td>\n",
              "    </tr>\n",
              "  </tbody>\n",
              "</table>\n",
              "</div>"
            ],
            "text/plain": [
              "       Data       MSE  R2 score  ...       FNR       TNR       TPR\n",
              "0  Training  0.157424  0.826324  ...  0.061856  0.972603  0.938144\n",
              "1   Testing  0.057143  0.935941  ...  0.000000  0.978495  1.000000\n",
              "\n",
              "[2 rows x 9 columns]"
            ]
          },
          "metadata": {
            "tags": []
          },
          "execution_count": 33
        }
      ]
    },
    {
      "cell_type": "markdown",
      "metadata": {
        "id": "qyZgsatmJgW9",
        "colab_type": "text"
      },
      "source": [
        "#### Confusion Matrix\n",
        "\n",
        "Total cell count: 699\n",
        "\n",
        "#### Training data\n",
        "Data count: 559\n",
        "\n",
        "Benign cell count: 365\n",
        "\n",
        "Malignant cell count: 194\n",
        "\n",
        "97.26% benign cells and 93.81% malignant cells were correctly predicted. \n",
        "\n",
        "2.73% benign cells were predicted as being maignant and 6.18% maignant cells were predicted as benign.\n",
        "\n",
        "#### Testing data\n",
        "Data count: 140\n",
        "\n",
        "Benign cell count: 93\n",
        "\n",
        "Malignant cell count: 47\n",
        "\n",
        "97.84% benign cells and 100% malignant cells were correctly predicted. 2.15% benign cells were predicted as being maignant"
      ]
    },
    {
      "cell_type": "markdown",
      "metadata": {
        "id": "lXqHiskswUep",
        "colab_type": "text"
      },
      "source": [
        "The testing model clearly better than testing data looking at the FP rate and FN rate."
      ]
    },
    {
      "cell_type": "markdown",
      "metadata": {
        "id": "sXNV-2XmQI_J",
        "colab_type": "text"
      },
      "source": [
        "### Feature Selection\n",
        "\n",
        "Since you have many features available, one part of building the best model will be to select which features to use as input to the classifier. Your initial model used all of the features but it is possible that a better model can \n",
        "be built by leaving some of them out.   Test this by building a few models with subsets of the features - how do your models perform? \n",
        "\n",
        "This process can be automated.  The [sklearn RFE function](http://scikit-learn.org/stable/modules/feature_selection.html#recursive-feature-elimination) implements __Recursive Feature Estimation__ which removes \n",
        "features one by one, evaluating the model each time and selecting the best model for a target number of features.  Use RFE to select features for a model with 3, 4 and 5 features - can you build a model that is as good or better than your initial model?"
      ]
    },
    {
      "cell_type": "code",
      "metadata": {
        "id": "KpwaTrwSQI_K",
        "colab_type": "code",
        "colab": {}
      },
      "source": [
        "feature_cols = np.array(bcancer.columns)[1:-1]\n",
        "X = imputed_bcancer.drop(['class','sample_code_number'], axis=1)\n",
        "y = imputed_bcancer['class']\n",
        "X_train, X_test, y_train, y_test = train_test_split(X, y, test_size=0.2)"
      ],
      "execution_count": null,
      "outputs": []
    },
    {
      "cell_type": "code",
      "metadata": {
        "id": "RxFZS2oMxKSm",
        "colab_type": "code",
        "colab": {
          "base_uri": "https://localhost:8080/",
          "height": 638
        },
        "outputId": "9446caa5-de0d-41fb-870f-882c367e2343"
      },
      "source": [
        "cm = [None]*3\n",
        "estimator = LogisticRegression(C=1e9)\n",
        "\n",
        "for idx,i in enumerate([3,4,5]):\n",
        "  selector = RFE(estimator, i)  # select 3 features for us\n",
        "  selector = selector.fit(X, y)\n",
        "\n",
        "  supp = selector.get_support()\n",
        "  print(\"Selected features:\", feature_cols[supp])\n",
        "  print(\"Coeffs:\", selector.estimator_.coef_)\n",
        "  # test the model\n",
        "  predicted = selector.predict(X)\n",
        "  print(\"MSE:\", mean_squared_error(y, predicted))\n",
        "  print(\"R^2:\", r2_score(y, predicted))\n",
        "  print(\"Accuracy:\",accuracy_score(y,predicted))\n",
        "  cm[idx] = confusion_matrix(y,predicted)\n",
        "  print(\"Classification matrix:\",cm[idx])\n",
        "  print(\"\\n\")"
      ],
      "execution_count": null,
      "outputs": [
        {
          "output_type": "stream",
          "text": [
            "Selected features: ['uniformity_cell_shape' 'bland_chromatin' 'mitoses']\n",
            "Coeffs: [[1.11182892 0.74475264 0.75385756]]\n",
            "MSE: 0.23462088698140202\n",
            "R^2: 0.7403558680171773\n",
            "Accuracy: 0.9413447782546495\n",
            "Classification matrix: [[442  16]\n",
            " [ 25 216]]\n",
            "\n",
            "\n",
            "0 3\n",
            "1 4\n",
            "2 5\n",
            "Selected features: ['clump_thickness' 'uniformity_cell_shape' 'bland_chromatin' 'mitoses']\n",
            "Coeffs: [[0.55391074 0.84570179 0.69316168 0.72112276]]\n",
            "MSE: 0.17167381974248927\n",
            "R^2: 0.8100164887930565\n",
            "Accuracy: 0.9570815450643777\n",
            "Classification matrix: [[444  14]\n",
            " [ 16 225]]\n",
            "\n",
            "\n",
            "0 3\n",
            "1 4\n",
            "2 5\n",
            "Selected features: ['clump_thickness' 'uniformity_cell_shape' 'bare_nuclei' 'bland_chromatin'\n",
            " 'mitoses']\n",
            "Coeffs: [[0.49594084 0.5359611  0.44753375 0.47950766 0.5482071 ]]\n",
            "MSE: 0.12589413447782546\n",
            "R^2: 0.8606787584482415\n",
            "Accuracy: 0.9685264663805436\n",
            "Classification matrix: [[448  10]\n",
            " [ 12 229]]\n",
            "\n",
            "\n",
            "0 3\n",
            "1 4\n",
            "2 5\n"
          ],
          "name": "stdout"
        }
      ]
    },
    {
      "cell_type": "markdown",
      "metadata": {
        "id": "e3aLnu5TQI_N",
        "colab_type": "text"
      },
      "source": [
        "## Conclusion\n",
        "\n",
        "Write a brief conclusion to your experiment.  You might comment on the proportion of __false positive__ and __false negative__ classifications your model makes.  How useful would this model be in a clinical diagnostic setting? "
      ]
    },
    {
      "cell_type": "code",
      "metadata": {
        "id": "OQRmT_vTQI_O",
        "colab_type": "code",
        "colab": {
          "base_uri": "https://localhost:8080/",
          "height": 269
        },
        "outputId": "6cd48ac0-2cba-4d33-c45e-60fb8131b17a"
      },
      "source": [
        "for i in range(3):\n",
        "  print(\"Feature count \",i+3)\n",
        "  print(\"FPR: \",cm[i][0][1] / sum(cm[i][0]))\n",
        "  print(\"FNR: \",cm[i][1][0] / sum(cm[i][1]))\n",
        "  print(\"\\n\")"
      ],
      "execution_count": null,
      "outputs": [
        {
          "output_type": "stream",
          "text": [
            "Feature count  3\n",
            "FPR:  0.034934497816593885\n",
            "FNR:  0.1037344398340249\n",
            "\n",
            "\n",
            "Feature count  4\n",
            "FPR:  0.03056768558951965\n",
            "FNR:  0.06639004149377593\n",
            "\n",
            "\n",
            "Feature count  5\n",
            "FPR:  0.021834061135371178\n",
            "FNR:  0.04979253112033195\n",
            "\n",
            "\n"
          ],
          "name": "stdout"
        }
      ]
    },
    {
      "cell_type": "markdown",
      "metadata": {
        "id": "LwxAAgUk7aZ3",
        "colab_type": "text"
      },
      "source": [
        "The original test model still appears to be better than the feature selected models. From 3 to 5 feature selections, the error rates keep reducing. The accuracy and $R^2$ values appear to increase. "
      ]
    }
  ]
}
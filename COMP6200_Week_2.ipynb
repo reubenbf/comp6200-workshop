{
  "nbformat": 4,
  "nbformat_minor": 0,
  "metadata": {
    "kernelspec": {
      "display_name": "Python 3",
      "language": "python",
      "name": "python3"
    },
    "language_info": {
      "codemirror_mode": {
        "name": "ipython",
        "version": 3
      },
      "file_extension": ".py",
      "mimetype": "text/x-python",
      "name": "python",
      "nbconvert_exporter": "python",
      "pygments_lexer": "ipython3",
      "version": "3.6.8"
    },
    "colab": {
      "name": "COMP6200 Week 2.ipynb",
      "provenance": [],
      "collapsed_sections": []
    }
  },
  "cells": [
    {
      "cell_type": "markdown",
      "metadata": {
        "id": "ET4wSmtyYokY",
        "colab_type": "text"
      },
      "source": [
        "The goal this week is to pratice using Markdown to write descriptive text in notebooks and then look at Python data structures including the pandas module that supports data structures designed for handling the kind of data we'll be working with.  \n",
        "\n",
        "There is probably too much work to complete here in the workshop session, but please use this notebook after the workshop to practice your Python.  Remember to commit your changes to git as you go and push back to Github when you are done."
      ]
    },
    {
      "cell_type": "markdown",
      "metadata": {
        "id": "PKMUapHNYoke",
        "colab_type": "text"
      },
      "source": [
        "## Markdown Practice\n",
        "\n",
        "Complete this section as per the instructions in the iLearn practical page.  Add the required cells below this one."
      ]
    },
    {
      "cell_type": "markdown",
      "metadata": {
        "id": "uIthQsAjE1wc",
        "colab_type": "text"
      },
      "source": [
        "##Markdown Samples\n",
        "Here are three useful features of [Markdown](https://daringfireball.net/projects/markdown/):\n",
        "\n",
        "\n",
        "1.   It is easy to write\n",
        "2.   It can be turned into HTML automatically\n",
        "3.   It can be used to add simple formatting to text\n",
        "  *   for example **bold text** and *italics*\n",
        "  *   also different paragraph structures\n",
        "\n",
        "This expression $\\sqrt{3x-1}+(1+x)^{2}$ is an example of a TeX inline equation in a [Markdown-formatted](https://daringfireball.net/projects/markdown/) sentence.\n",
        "\n",
        "Here is a sample of code:\n",
        "```\n",
        "git pull --rebase upstream master\n",
        "```\n",
        "and here is an image inserted into the page:\n",
        "![](https://git-scm.com/images/logos/downloads/Git-Logo-2Color.png)"
      ]
    },
    {
      "cell_type": "markdown",
      "metadata": {
        "id": "-4Wn23soYokf",
        "colab_type": "text"
      },
      "source": [
        "## Lists and Dictionaries\n",
        "\n",
        "First we look at some built in Python data structures: lists and dictionaries. \n",
        "\n",
        "A list is a sequence of things, unlike strongly typed languages (Java, C#) a list can contain a mixture of different types - there is no type for a list of integers or a list of lists.   Here are some lists:"
      ]
    },
    {
      "cell_type": "code",
      "metadata": {
        "id": "1YVZnxGbYokg",
        "colab_type": "code",
        "colab": {}
      },
      "source": [
        "ages = [12, 99, 51, 3, 55]\n",
        "names = ['steve', 'jim', 'mary', 'carrie', 'zin']\n",
        "stuff = [12, 'eighteen', 6, ['another', 'list']]"
      ],
      "execution_count": null,
      "outputs": []
    },
    {
      "cell_type": "markdown",
      "metadata": {
        "id": "Ov_ZG4cQYokj",
        "colab_type": "text"
      },
      "source": [
        "1. write code to print the first and third elements of each list\n",
        "2. write code to select and print everything except the first element of each list\n",
        "3. write a for loop that prints each element of the 'names' list"
      ]
    },
    {
      "cell_type": "code",
      "metadata": {
        "id": "G62JoSYlYokk",
        "colab_type": "code",
        "colab": {
          "base_uri": "https://localhost:8080/",
          "height": 67
        },
        "outputId": "14a4cb60-4a4d-4f4c-88b4-ffd3fd8c4a9d"
      },
      "source": [
        "for array in [ages,names,stuff]:\n",
        "  print(\"first and third element:\",array[0],array[2])"
      ],
      "execution_count": null,
      "outputs": [
        {
          "output_type": "stream",
          "text": [
            "first and third element: 12 51\n",
            "first and third element: steve mary\n",
            "first and third element: 12 6\n"
          ],
          "name": "stdout"
        }
      ]
    },
    {
      "cell_type": "code",
      "metadata": {
        "id": "DYGQ8BmWOrir",
        "colab_type": "code",
        "colab": {
          "base_uri": "https://localhost:8080/",
          "height": 67
        },
        "outputId": "c98d4da9-3ffa-4104-875a-dcfa2554b4d7"
      },
      "source": [
        "for array in [ages,names,stuff]:\n",
        "  print(\"not first\",array[1:])"
      ],
      "execution_count": null,
      "outputs": [
        {
          "output_type": "stream",
          "text": [
            "not first [99, 51, 3, 55]\n",
            "not first ['jim', 'mary', 'carrie', 'zin']\n",
            "not first ['eighteen', 6, ['another', 'list']]\n"
          ],
          "name": "stdout"
        }
      ]
    },
    {
      "cell_type": "code",
      "metadata": {
        "id": "vY8ki-sIPhb7",
        "colab_type": "code",
        "colab": {
          "base_uri": "https://localhost:8080/",
          "height": 101
        },
        "outputId": "2fd6470d-c022-4e25-dbb5-87705d79d59e"
      },
      "source": [
        "for n in names:\n",
        "  print(n)"
      ],
      "execution_count": null,
      "outputs": [
        {
          "output_type": "stream",
          "text": [
            "steve\n",
            "jim\n",
            "mary\n",
            "carrie\n",
            "zin\n"
          ],
          "name": "stdout"
        }
      ]
    },
    {
      "cell_type": "markdown",
      "metadata": {
        "id": "qzo5-uxfYokn",
        "colab_type": "text"
      },
      "source": [
        "A dictionary is an associative array - it associates a value (any Python data type) with a key. The key is usually a string but can be any immutable type (string, number, tuple).  Here's some code that counts the occurence of words in a string.  It stores the count for each word in a dictionary using the word as a key. If the word is already stored in the dictionary, it adds one to the count, if not, it initialises the count to one.  \n",
        "\n",
        "The second for loop iterates over the keys in the dictionary and prints one line per entry.\n",
        "\n",
        "Modify this example to be a bit smarter:\n",
        "- make sure that punctuation characters are not included as parts of a word, be careful with hyphens - should they be included or not?\n",
        "- make the count use the lowercase version of a word, so that 'The' and 'the' are counted as the same word\n",
        "- **Challenge**: find the first and second most frequent words in the text\n",
        "- **Challenge**: take your code and write it as a function that takes a string and returns a list of words with their counts in order"
      ]
    },
    {
      "cell_type": "code",
      "metadata": {
        "id": "gGRF4u8-Yoko",
        "colab_type": "code",
        "colab": {}
      },
      "source": [
        "import string\n",
        "description = \"\"\"This unit introduces students to the fundamental techniques and \n",
        "tools of data science, such as the graphical display of data, \n",
        "predictive models, evaluation methodologies, regression, \n",
        "classification and clustering. The unit provides practical \n",
        "experience applying these methods using industry-standard \n",
        "software tools to real-world data sets. Students who have \n",
        "completed this unit will be able to identify which data \n",
        "science methods are most appropriate for a real-world data \n",
        "set, apply these methods to the data set, and interpret the \n",
        "results of the analysis they have performed. \"\"\"\n"
      ],
      "execution_count": null,
      "outputs": []
    },
    {
      "cell_type": "code",
      "metadata": {
        "id": "7W3AOUi4nnl9",
        "colab_type": "code",
        "colab": {}
      },
      "source": [
        "def word_frequency(sentence):\n",
        "  desc = sentence\n",
        "\n",
        "  count = dict()\n",
        "  for word in desc.split():\n",
        "      word=word.strip(',').strip('.').lower()\n",
        "      if word in count:\n",
        "         count[word] += 1\n",
        "      else:\n",
        "         count[word] = 1\n",
        "\n",
        "  count_sorted = sorted(count.items(), key=lambda kv: kv[1],reverse=True)\n",
        "  return count_sorted"
      ],
      "execution_count": null,
      "outputs": []
    },
    {
      "cell_type": "code",
      "metadata": {
        "id": "L50aTtKcoIUO",
        "colab_type": "code",
        "colab": {
          "base_uri": "https://localhost:8080/",
          "height": 34
        },
        "outputId": "cd30f95e-a1e2-4eb3-873f-0ef2942bd8bf"
      },
      "source": [
        "wf = word_frequency(description)\n",
        "print(\"The two most frequent words are \"+str(wf[0][0])+ \" and \"+ str(wf[1][0]) +\" with frequency \"+ str(wf[0][1])+ \" and \"+ str(wf[1][1]))"
      ],
      "execution_count": null,
      "outputs": [
        {
          "output_type": "stream",
          "text": [
            "The two most frequent words are the and data with frequency 6 and 6\n"
          ],
          "name": "stdout"
        }
      ]
    },
    {
      "cell_type": "markdown",
      "metadata": {
        "id": "t71OC8ohYokr",
        "colab_type": "text"
      },
      "source": [
        "## Pandas Data Frames\n",
        "\n",
        "[Pandas](https://pandas.pydata.org) is a Python module that provides some important data structures for Data Science work and a large collection of methods for data analysis. \n",
        "\n",
        "The two main data structures are the [Series]() and [DataFrame](http://pandas.pydata.org/pandas-docs/stable/dsintro.html#dataframe).  \n",
        "\n",
        "A Series is a one dimensional array of data, but unlike the Python list the data is indexed - the index is like the dictionary key, any immutable value like a number or string.  You can use the label to select elements from the series as well as positional values.  \n",
        "\n",
        "A DataFrame is analogous to a spreadsheet - a two dimensional table of data with indexed rows and named columns. \n",
        "\n",
        "You should read up on these and follow the examples in the text.  Here are a few exercises to complete with data frames."
      ]
    },
    {
      "cell_type": "markdown",
      "metadata": {
        "id": "JyCQhwVYYoks",
        "colab_type": "text"
      },
      "source": [
        "You are given three csv files containing sample data."
      ]
    },
    {
      "cell_type": "code",
      "metadata": {
        "id": "53xHdfxtYokt",
        "colab_type": "code",
        "colab": {
          "base_uri": "https://localhost:8080/",
          "height": 50
        },
        "outputId": "023cd7ba-da0a-4e7f-ba9a-b723782cd533"
      },
      "source": [
        "import pandas as pd\n",
        "import numpy as np\n",
        "import matplotlib.pyplot as plt\n",
        "%matplotlib inline\n",
        "\n",
        "ds1 = 'data/ds1.csv'\n",
        "ds2 = 'data/ds2.csv'\n",
        "ds3 = 'data/ds3.csv'"
      ],
      "execution_count": null,
      "outputs": [
        {
          "output_type": "execute_result",
          "data": {
            "text/plain": [
              "<Figure size 1296x432 with 0 Axes>"
            ]
          },
          "metadata": {
            "tags": []
          },
          "execution_count": 80
        },
        {
          "output_type": "display_data",
          "data": {
            "text/plain": [
              "<Figure size 1296x432 with 0 Axes>"
            ]
          },
          "metadata": {
            "tags": []
          }
        }
      ]
    },
    {
      "cell_type": "markdown",
      "metadata": {
        "id": "SfErHw81Yokw",
        "colab_type": "text"
      },
      "source": [
        "Write code below to read one of these data files into a pandas data frame and:\n",
        "- show the first few rows: .head\n",
        "- find the summary data for each column: .describe\n",
        "- select just those rows where the value of x and y is over 50\n",
        "- select the column 'x' and create a series\n",
        "- plot the 'x' series as a line graph\n",
        "- plot the dataframe as a scatterplot\n",
        "\n",
        "Once you have the code for this, you can change the file you use for input of the data (ds2, ds3) and re-run the following cells to see the different output that is generated"
      ]
    },
    {
      "cell_type": "code",
      "metadata": {
        "id": "Bat5xMYQYokw",
        "colab_type": "code",
        "colab": {}
      },
      "source": [
        "df_1 = pd.read_csv(ds1)"
      ],
      "execution_count": null,
      "outputs": []
    },
    {
      "cell_type": "code",
      "metadata": {
        "id": "y2sYr_05SA_d",
        "colab_type": "code",
        "colab": {}
      },
      "source": [
        "df_1.head()"
      ],
      "execution_count": null,
      "outputs": []
    },
    {
      "cell_type": "code",
      "metadata": {
        "id": "JvGtJ13NR7OL",
        "colab_type": "code",
        "colab": {}
      },
      "source": [
        "df_1.describe()"
      ],
      "execution_count": null,
      "outputs": []
    },
    {
      "cell_type": "code",
      "metadata": {
        "id": "NaGmugsJThma",
        "colab_type": "code",
        "colab": {}
      },
      "source": [
        "df_1[(df_1['x'] > 50) & (df_1['y'] > 50)]"
      ],
      "execution_count": null,
      "outputs": []
    },
    {
      "cell_type": "code",
      "metadata": {
        "id": "KbCRB4xNVPnV",
        "colab_type": "code",
        "colab": {}
      },
      "source": [
        "ser_x = pd.Series(df_1.x)"
      ],
      "execution_count": null,
      "outputs": []
    },
    {
      "cell_type": "code",
      "metadata": {
        "id": "gkDdaGbFWU2B",
        "colab_type": "code",
        "colab": {
          "base_uri": "https://localhost:8080/",
          "height": 282
        },
        "outputId": "b7851557-eda8-4ce7-c44f-74b9609c9570"
      },
      "source": [
        "plt.plot(ser_x)"
      ],
      "execution_count": null,
      "outputs": [
        {
          "output_type": "execute_result",
          "data": {
            "text/plain": [
              "[<matplotlib.lines.Line2D at 0x7f9506684f60>]"
            ]
          },
          "metadata": {
            "tags": []
          },
          "execution_count": 93
        },
        {
          "output_type": "display_data",
          "data": {
            "image/png": "[encoded data removed]",
            "text/plain": [
              "<Figure size 432x288 with 1 Axes>"
            ]
          },
          "metadata": {
            "tags": []
          }
        }
      ]
    },
    {
      "cell_type": "code",
      "metadata": {
        "id": "1EnRx6HyXmgm",
        "colab_type": "code",
        "colab": {
          "base_uri": "https://localhost:8080/",
          "height": 282
        },
        "outputId": "bbe02424-d5ce-43bf-c7fe-48727abcee97"
      },
      "source": [
        "plt.scatter(df_1['x'],df['y'])"
      ],
      "execution_count": null,
      "outputs": [
        {
          "output_type": "execute_result",
          "data": {
            "text/plain": [
              "<matplotlib.collections.PathCollection at 0x7f950677d320>"
            ]
          },
          "metadata": {
            "tags": []
          },
          "execution_count": 81
        },
        {
          "output_type": "display_data",
          "data": {
            "image/png": "[encoded data removed]",
            "text/plain": [
              "<Figure size 432x288 with 1 Axes>"
            ]
          },
          "metadata": {
            "tags": []
          }
        }
      ]
    },
    {
      "cell_type": "markdown",
      "metadata": {
        "id": "yfNYcD7mYokz",
        "colab_type": "text"
      },
      "source": [
        "# Further Practice\n",
        "\n",
        "If you finish this task you can practice more with pandas data frames by following the examples in the text, section 2.6.  The CSV file that they use in that section is available in the `files` directory of this repository as `educ_figdp_1_Data.csv`.   "
      ]
    },
    {
      "cell_type": "code",
      "metadata": {
        "id": "Qds2YbvDYok1",
        "colab_type": "code",
        "colab": {}
      },
      "source": [
        "edufile = 'files/educ_figdp_1_Data.csv'"
      ],
      "execution_count": null,
      "outputs": []
    }
  ]
}